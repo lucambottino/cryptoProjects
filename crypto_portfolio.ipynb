{
 "metadata": {
  "language_info": {
   "codemirror_mode": {
    "name": "ipython",
    "version": 3
   },
   "file_extension": ".py",
   "mimetype": "text/x-python",
   "name": "python",
   "nbconvert_exporter": "python",
   "pygments_lexer": "ipython3",
   "version": "3.8.3"
  },
  "orig_nbformat": 2,
  "kernelspec": {
   "name": "python3",
   "display_name": "Python 3.8.3 64-bit ('base': conda)"
  },
  "interpreter": {
   "hash": "33423b2062f9cfcd1ac8c01fe521c1126139cadaa5c57030fde30599e9881c9d"
  }
 },
 "nbformat": 4,
 "nbformat_minor": 2,
 "cells": [
  {
   "cell_type": "code",
   "execution_count": 1,
   "source": [
    "\r\n",
    "import urllib.request\r\n",
    "import ssl\r\n",
    "import json\r\n",
    "import time\r\n",
    "import pandas as pd\r\n",
    "\r\n",
    "ssl._create_default_https_context = ssl._create_unverified_context\r\n",
    " \r\n",
    "api_key = 'lavkffv5kjjb9z3ows4z3m'\r\n",
    "\r\n",
    "map = [\r\n",
    "    {\"name\":\"\"},\r\n",
    "    {\"symbol\": \"\"},\r\n",
    "    {\"price\": \" Price: \"},\r\n",
    "    {\"percent_change_24h\": \" - 24 Hour Percent Change: \"},\r\n",
    "    {\"market_cap\": \" Market Cap: \"},\r\n",
    "    {\"volume_24h\": \" 24 Hour Volume: \"},\r\n",
    "    {\"url_shares\": \" URL Shares: \"},\r\n",
    "    {\"reddit_posts\": \" Reddit Posts: \"},\r\n",
    "    {\"tweets\": \" Tweets: \"},\r\n",
    "    {\"galaxy_score\": \" Galaxy Score: \"},\r\n",
    "    {\"volatility\": \" Volatility: \"},\r\n",
    "    {\"social_volume\": \" Social Volume: \"},\r\n",
    "    {\"news\": \" News: \"},\r\n",
    "    {\"close\": \" Close: \"},\r\n",
    "    {'time': ' Time:'},\r\n",
    "]\r\n",
    "\r\n",
    "fields = [list(key.keys())[0] for key in map]\r\n",
    "coins_df = pd.DataFrame(columns=fields)\r\n",
    "\r\n",
    "def final_render(asset_coin, value, key, asset):\r\n",
    "    if key == 'symbol':\r\n",
    "        asset_coin += \" (\" + asset[key] + \")\"\r\n",
    "    elif key == 'percent_change_24h':\r\n",
    "        asset_coin += value + str(asset[key]) + \"%\"\r\n",
    "    else:\r\n",
    "        asset_coin += value + str(asset[key])\r\n",
    "    return asset_coin\r\n",
    "\r\n",
    "\r\n",
    "# Iterates over each of the fields from Lunar Crush, gets the value from Lunar Crush and renders it with the field name\r\n",
    "def main():\r\n",
    "\r\n",
    "    url = \"https://api.lunarcrush.com/v2?data=assets&key=\" + api_key + \"&symbol=\" + coin + \"&data_points=730\" + \"&interval=day\"\r\n",
    "\r\n",
    "    assets = json.loads(urllib.request.urlopen(url).read())\r\n",
    "\r\n",
    "    for asset in assets['data']:\r\n",
    "        asset_coin = \"\"\r\n",
    "        for field in map:\r\n",
    "            key = list(field.keys())[0]\r\n",
    "            value = list(field.values())[0]\r\n",
    "            asset_coin = final_render(asset_coin, value, key, asset)\r\n",
    "        #print(asset_coin)\r\n",
    "        #print(len(asset_coin))\r\n",
    "        \r\n",
    "        return assets\r\n",
    "        \r\n",
    "def create_coins_df(assets):\r\n",
    "    global coins_df\r\n",
    "    \r\n",
    "    for n in range(len(coin_list)):\r\n",
    "        data = assets['data'][n]\r\n",
    "        required_data = [{key: data[key] for key in fields}]\r\n",
    "        \r\n",
    "        coins_df = coins_df.append(required_data, ignore_index = True)\r\n",
    "        \r\n",
    "        coins_df['time'] = pd.to_datetime(coins_df['time'], unit='s')\r\n",
    "        \r\n",
    "    return coins_df\r\n",
    "\r\n",
    "coin_list = [[\"BTC\"], [\"ETH\"], [\"USDT\"], [\"ADA\"]]\r\n",
    "frames = []\r\n",
    "for coin in coin_list:\r\n",
    "# Allows adding as many coins as desired\r\n",
    "    coins = ','.join(coin)\r\n",
    "    #coins = coin_list\r\n",
    "    assets = main()\r\n",
    "    print(assets)\r\n",
    "    df = create_coins_df(assets)\r\n",
    "    print(df)\r\n",
    "    frames.append(df)\r\n",
    "\r\n",
    "print(frames)"
   ],
   "outputs": [
    {
     "output_type": "error",
     "ename": "TypeError",
     "evalue": "can only concatenate str (not \"list\") to str",
     "traceback": [
      "\u001b[1;31m---------------------------------------------------------------------------\u001b[0m",
      "\u001b[1;31mTypeError\u001b[0m                                 Traceback (most recent call last)",
      "\u001b[1;32m<ipython-input-1-d2dc00a36dbc>\u001b[0m in \u001b[0;36m<module>\u001b[1;34m\u001b[0m\n\u001b[0;32m     77\u001b[0m     \u001b[0mcoins\u001b[0m \u001b[1;33m=\u001b[0m \u001b[1;34m','\u001b[0m\u001b[1;33m.\u001b[0m\u001b[0mjoin\u001b[0m\u001b[1;33m(\u001b[0m\u001b[0mcoin\u001b[0m\u001b[1;33m)\u001b[0m\u001b[1;33m\u001b[0m\u001b[1;33m\u001b[0m\u001b[0m\n\u001b[0;32m     78\u001b[0m     \u001b[1;31m#coins = coin_list\u001b[0m\u001b[1;33m\u001b[0m\u001b[1;33m\u001b[0m\u001b[1;33m\u001b[0m\u001b[0m\n\u001b[1;32m---> 79\u001b[1;33m     \u001b[0massets\u001b[0m \u001b[1;33m=\u001b[0m \u001b[0mmain\u001b[0m\u001b[1;33m(\u001b[0m\u001b[1;33m)\u001b[0m\u001b[1;33m\u001b[0m\u001b[1;33m\u001b[0m\u001b[0m\n\u001b[0m\u001b[0;32m     80\u001b[0m     \u001b[0mprint\u001b[0m\u001b[1;33m(\u001b[0m\u001b[0massets\u001b[0m\u001b[1;33m)\u001b[0m\u001b[1;33m\u001b[0m\u001b[1;33m\u001b[0m\u001b[0m\n\u001b[0;32m     81\u001b[0m     \u001b[0mdf\u001b[0m \u001b[1;33m=\u001b[0m \u001b[0mcreate_coins_df\u001b[0m\u001b[1;33m(\u001b[0m\u001b[0massets\u001b[0m\u001b[1;33m)\u001b[0m\u001b[1;33m\u001b[0m\u001b[1;33m\u001b[0m\u001b[0m\n",
      "\u001b[1;32m<ipython-input-1-d2dc00a36dbc>\u001b[0m in \u001b[0;36mmain\u001b[1;34m()\u001b[0m\n\u001b[0;32m     43\u001b[0m \u001b[1;32mdef\u001b[0m \u001b[0mmain\u001b[0m\u001b[1;33m(\u001b[0m\u001b[1;33m)\u001b[0m\u001b[1;33m:\u001b[0m\u001b[1;33m\u001b[0m\u001b[1;33m\u001b[0m\u001b[0m\n\u001b[0;32m     44\u001b[0m \u001b[1;33m\u001b[0m\u001b[0m\n\u001b[1;32m---> 45\u001b[1;33m     \u001b[0murl\u001b[0m \u001b[1;33m=\u001b[0m \u001b[1;34m\"https://api.lunarcrush.com/v2?data=assets&key=\"\u001b[0m \u001b[1;33m+\u001b[0m \u001b[0mapi_key\u001b[0m \u001b[1;33m+\u001b[0m \u001b[1;34m\"&symbol=\"\u001b[0m \u001b[1;33m+\u001b[0m \u001b[0mcoin\u001b[0m \u001b[1;33m+\u001b[0m \u001b[1;34m\"&data_points=730\"\u001b[0m \u001b[1;33m+\u001b[0m \u001b[1;34m\"&interval=day\"\u001b[0m\u001b[1;33m\u001b[0m\u001b[1;33m\u001b[0m\u001b[0m\n\u001b[0m\u001b[0;32m     46\u001b[0m \u001b[1;33m\u001b[0m\u001b[0m\n\u001b[0;32m     47\u001b[0m     \u001b[0massets\u001b[0m \u001b[1;33m=\u001b[0m \u001b[0mjson\u001b[0m\u001b[1;33m.\u001b[0m\u001b[0mloads\u001b[0m\u001b[1;33m(\u001b[0m\u001b[0murllib\u001b[0m\u001b[1;33m.\u001b[0m\u001b[0mrequest\u001b[0m\u001b[1;33m.\u001b[0m\u001b[0murlopen\u001b[0m\u001b[1;33m(\u001b[0m\u001b[0murl\u001b[0m\u001b[1;33m)\u001b[0m\u001b[1;33m.\u001b[0m\u001b[0mread\u001b[0m\u001b[1;33m(\u001b[0m\u001b[1;33m)\u001b[0m\u001b[1;33m)\u001b[0m\u001b[1;33m\u001b[0m\u001b[1;33m\u001b[0m\u001b[0m\n",
      "\u001b[1;31mTypeError\u001b[0m: can only concatenate str (not \"list\") to str"
     ]
    }
   ],
   "metadata": {}
  },
  {
   "cell_type": "code",
   "execution_count": null,
   "source": [
    "import pandas as pd\r\n",
    "\r\n",
    "coin_list = [\"BTC\", \"ETH\", \"ADA\"]\r\n",
    "\r\n",
    "url_list = [\"https://api.lunarcrush.com/v2?data=assets&key=\" + api_key + \"&symbol=\" + coin + \"&data_points=30\" + \"&interval=day\" for coin in coin_list]\r\n",
    "\r\n",
    "test = []\r\n",
    "for url in url_list:\r\n",
    "    assets = json.loads(urllib.request.urlopen(url).read())\r\n",
    "    df = pd.DataFrame.from_dict(assets)\r\n",
    "    print(df.head(10))\r\n",
    "    test.append(assets)\r\n",
    "print(test)"
   ],
   "outputs": [],
   "metadata": {
    "tags": []
   }
  },
  {
   "cell_type": "code",
   "execution_count": null,
   "source": [],
   "outputs": [],
   "metadata": {}
  }
 ]
}