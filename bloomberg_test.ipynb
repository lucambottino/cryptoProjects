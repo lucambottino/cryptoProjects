{
 "metadata": {
  "language_info": {
   "codemirror_mode": {
    "name": "ipython",
    "version": 3
   },
   "file_extension": ".py",
   "mimetype": "text/x-python",
   "name": "python",
   "nbconvert_exporter": "python",
   "pygments_lexer": "ipython3",
   "version": "3.8.3"
  },
  "orig_nbformat": 2,
  "kernelspec": {
   "name": "python383jvsc74a57bd0bd1016a6653a4ea14fba4597125e5058847ef76c0018e5decc4acb0e09873fbc",
   "display_name": "Python 3.8.3 64-bit ('base': conda)"
  }
 },
 "nbformat": 4,
 "nbformat_minor": 2,
 "cells": [
  {
   "cell_type": "code",
   "execution_count": 1,
   "metadata": {},
   "outputs": [
    {
     "output_type": "stream",
     "name": "stdout",
     "text": [
      "{'mes_Aplicacao': {3: 7, 4: 4, 2: 1, 1: 1}, 'paciente_idade': {77: 5, 75: 1, 30: 1, 44: 1, 59: 1, 61: 1, 73: 1, 54: 1, 82: 1}, 'paciente_enumSexoBiologico': {'F': 9, 'M': 4}, 'paciente_racaCor_valor': {'PARDA': 5, 'BRANCA': 4, 'SEM INFORMACAO': 2, 'AMARELA': 1, 'PRETA': 1}, 'estabelecimento_uf': {'GO ': 4, 'RJ': 2, 'SP': 2, 'AL': 1, 'PA': 1, 'PR': 1, 'MG': 1, 'DF': 1}}\n"
     ]
    }
   ],
   "source": [
    "import pandas as pd\n",
    "from datetime import datetime\n",
    "\n",
    "# le os dados de um arquivo csv e converte a coluna vacina_dataAplicaco de string para datetime object\n",
    "#df = pd.read_csv('filename.csv', parse_dates=['vacina_dataAplicacao'], date_parser='%Y-%m-%d', delimiter=',', encoding=\"utf-8\")\n",
    "df = pd.read_csv('filename.csv', delimiter=',', encoding=\"utf-8\")\n",
    "\n",
    "# gera uma nova coluna no dataframe que indica o mes de aplicacao da vacina\n",
    "df[\"mes_Aplicacao\"] = [datetime.strptime(i, '%Y-%m-%d').month for i in df[\"vacina_dataAplicacao\"]]\n",
    "\n",
    "# define as categorias de aplicacao\n",
    "categories = [\"mes_Aplicacao\", \"paciente_idade\", \"paciente_enumSexoBiologico\", \"paciente_racaCor_valor\", \"estabelecimento_uf\"]\n",
    "\n",
    "# agrupa o dataframe pelas categorias indicadas, conta as ocorrencias unicas de cada ticker em cada categoria e salva o resultado em um dicionario JSON\n",
    "my_dict = {}\n",
    "for i in categories:\n",
    "    counts = df[i].value_counts().to_dict()\n",
    "    my_dict[i] = counts\n",
    "\n",
    "print(my_dict)\n",
    "\n",
    "# exemplo de execução:\n",
    "#{'mes_Aplicacao': {3: 7, 4: 4, 2: 1, 1: 1}, 'paciente_idade': {77: 5, 75: 1, 30: 1, 44: 1, 59: 1, 61: 1, 73: 1, 54: 1, 82: 1}, 'paciente_enumSexoBiologico': {'F': 9, 'M': 4}, 'paciente_racaCor_valor': {'PARDA': 5, 'BRANCA': 4, 'SEM INFORMACAO': 2, 'AMARELA': 1, 'PRETA': 1}, 'estabelecimento_uf': {'GO ': 4, 'RJ': 2, 'SP': 2, 'PA': 1, 'AL': 1, 'MG': 1, 'PR': 1, 'DF': 1}}"
   ]
  },
  {
   "cell_type": "code",
   "execution_count": 2,
   "metadata": {},
   "outputs": [
    {
     "output_type": "stream",
     "name": "stdout",
     "text": [
      "0\n"
     ]
    }
   ],
   "source": []
  },
  {
   "cell_type": "code",
   "execution_count": null,
   "metadata": {},
   "outputs": [],
   "source": []
  }
 ]
}